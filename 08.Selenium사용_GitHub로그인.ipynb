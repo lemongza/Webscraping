{
 "cells": [
  {
   "cell_type": "markdown",
   "metadata": {},
   "source": [
    "* [webdriver-manager github](https://github.com/SergeyPirogov/webdriver_manager)\n",
    "* [webdriver-manager PYPI](https://pypi.org/project/webdriver-manager/#use-with-ie)"
   ]
  },
  {
   "cell_type": "code",
   "execution_count": 6,
   "metadata": {},
   "outputs": [
    {
     "name": "stdout",
     "output_type": "stream",
     "text": [
      "Requirement already satisfied: webdriver-manager in /Users/jo-eunji/anaconda3/lib/python3.12/site-packages (4.0.2)\n",
      "Requirement already satisfied: requests in /Users/jo-eunji/anaconda3/lib/python3.12/site-packages (from webdriver-manager) (2.32.3)\n",
      "Requirement already satisfied: python-dotenv in /Users/jo-eunji/anaconda3/lib/python3.12/site-packages (from webdriver-manager) (0.21.0)\n",
      "Requirement already satisfied: packaging in /Users/jo-eunji/anaconda3/lib/python3.12/site-packages (from webdriver-manager) (24.1)\n",
      "Requirement already satisfied: charset-normalizer<4,>=2 in /Users/jo-eunji/anaconda3/lib/python3.12/site-packages (from requests->webdriver-manager) (3.3.2)\n",
      "Requirement already satisfied: idna<4,>=2.5 in /Users/jo-eunji/anaconda3/lib/python3.12/site-packages (from requests->webdriver-manager) (3.7)\n",
      "Requirement already satisfied: urllib3<3,>=1.21.1 in /Users/jo-eunji/anaconda3/lib/python3.12/site-packages (from requests->webdriver-manager) (2.2.3)\n",
      "Requirement already satisfied: certifi>=2017.4.17 in /Users/jo-eunji/anaconda3/lib/python3.12/site-packages (from requests->webdriver-manager) (2025.1.31)\n",
      "Note: you may need to restart the kernel to use updated packages.\n"
     ]
    }
   ],
   "source": [
    "%pip install webdriver-manager"
   ]
  },
  {
   "cell_type": "code",
   "execution_count": 7,
   "metadata": {},
   "outputs": [
    {
     "name": "stdout",
     "output_type": "stream",
     "text": [
      "Name: selenium\n",
      "Version: 4.31.0\n",
      "Summary: Official Python bindings for Selenium WebDriver.\n",
      "Home-page: \n",
      "Author: \n",
      "Author-email: \n",
      "License: Apache 2.0\n",
      "Location: /Users/jo-eunji/anaconda3/lib/python3.12/site-packages\n",
      "Requires: certifi, trio, trio-websocket, typing_extensions, urllib3, websocket-client\n",
      "Required-by: \n",
      "Note: you may need to restart the kernel to use updated packages.\n"
     ]
    }
   ],
   "source": [
    "#pip install selenium\n",
    "%pip show selenium"
   ]
  },
  {
   "cell_type": "code",
   "execution_count": 8,
   "metadata": {},
   "outputs": [
    {
     "data": {
      "text/plain": [
       "'4.31.0'"
      ]
     },
     "execution_count": 8,
     "metadata": {},
     "output_type": "execute_result"
    }
   ],
   "source": [
    "import selenium\n",
    "\n",
    "selenium.__version__"
   ]
  },
  {
   "cell_type": "markdown",
   "metadata": {},
   "source": [
    "### WebDriver 의 Chrome 객체생성\n",
    "* python.org 웹사이트로 요청을 보내기\n",
    "* pypi 메뉴를 클릭해서 pypi.org 웹사이트로 이동하기"
   ]
  },
  {
   "cell_type": "code",
   "execution_count": null,
   "metadata": {},
   "outputs": [
    {
     "name": "stdout",
     "output_type": "stream",
     "text": [
      "[<selenium.webdriver.remote.webelement.WebElement (session=\"39f4ba643261bafb84638685cb083188\", element=\"f.4FDE79EA3895BA9BB7ACCC8C7EC1AC65.d.474A7EB87586C95255BCD8DC47AE4A98.e.34\")>, <selenium.webdriver.remote.webelement.WebElement (session=\"39f4ba643261bafb84638685cb083188\", element=\"f.4FDE79EA3895BA9BB7ACCC8C7EC1AC65.d.474A7EB87586C95255BCD8DC47AE4A98.e.35\")>, <selenium.webdriver.remote.webelement.WebElement (session=\"39f4ba643261bafb84638685cb083188\", element=\"f.4FDE79EA3895BA9BB7ACCC8C7EC1AC65.d.474A7EB87586C95255BCD8DC47AE4A98.e.36\")>, <selenium.webdriver.remote.webelement.WebElement (session=\"39f4ba643261bafb84638685cb083188\", element=\"f.4FDE79EA3895BA9BB7ACCC8C7EC1AC65.d.474A7EB87586C95255BCD8DC47AE4A98.e.37\")>, <selenium.webdriver.remote.webelement.WebElement (session=\"39f4ba643261bafb84638685cb083188\", element=\"f.4FDE79EA3895BA9BB7ACCC8C7EC1AC65.d.474A7EB87586C95255BCD8DC47AE4A98.e.38\")>, <selenium.webdriver.remote.webelement.WebElement (session=\"39f4ba643261bafb84638685cb083188\", element=\"f.4FDE79EA3895BA9BB7ACCC8C7EC1AC65.d.474A7EB87586C95255BCD8DC47AE4A98.e.39\")>]\n",
      "Python <class 'selenium.webdriver.remote.webelement.WebElement'>\n",
      "PSF <class 'selenium.webdriver.remote.webelement.WebElement'>\n",
      "Docs <class 'selenium.webdriver.remote.webelement.WebElement'>\n",
      "PyPI <class 'selenium.webdriver.remote.webelement.WebElement'>\n",
      "Jobs <class 'selenium.webdriver.remote.webelement.WebElement'>\n",
      "Community <class 'selenium.webdriver.remote.webelement.WebElement'>\n"
     ]
    }
   ],
   "source": [
    "from selenium import webdriver\n",
    "from selenium.webdriver.chrome.service import Service\n",
    "from webdriver_manager.chrome import ChromeDriverManager\n",
    "from selenium.webdriver.common.by import By\n",
    "import time\n",
    "\n",
    "driver = webdriver.Chrome(service=Service(ChromeDriverManager().install()))\n",
    "driver.get(\"https://www.python.org/\")\n",
    "\n",
    "#webdriver에 포함된 Chrome 객체를 생성 - chromedriver.exe 사용해서\n",
    "\n",
    "#li 엘리먼트 선택해서 가져오기\n",
    "li_tags = driver.find_elements(By.CSS_SELECTOR,'div#top ul.menu li') #css_selector : 복잡한 선택에 유용함\n",
    "print(li_tags)\n",
    "#pypi 엘리먼트를 찾아서 저장할 변수 선언\n",
    "pypi = None\n",
    "for li_tag in li_tags:\n",
    "    print(li_tag.text, type(li_tag))\n",
    "    if li_tag.text == 'PyPI':\n",
    "        pypi = li_tag \n",
    "        \n",
    "time.sleep(3)\n",
    "\n",
    "#pypi 엘리멘트의 click() 함수 호출\n",
    "pypi.click()\n",
    "\n",
    "#5초로 waiting time 설정\n",
    "time.sleep(5)\n",
    "#driver 종료\n",
    "driver.quit()"
   ]
  },
  {
   "cell_type": "markdown",
   "metadata": {},
   "source": [
    "### 네이버 포털의 image를 save 해보기"
   ]
  },
  {
   "cell_type": "code",
   "execution_count": 2,
   "metadata": {},
   "outputs": [],
   "source": [
    "import os\n",
    "#img 디렉토리 생성\n",
    "#img 디렉토리가 없으면\n",
    "if not os.path.isdir('img'):\n",
    "    os.mkdir('img')   "
   ]
  },
  {
   "cell_type": "code",
   "execution_count": 3,
   "metadata": {},
   "outputs": [],
   "source": [
    "from selenium import webdriver\n",
    "from selenium.webdriver.chrome.service import Service\n",
    "from webdriver_manager.chrome import ChromeDriverManager\n",
    "import time\n",
    "\n",
    "driver = webdriver.Chrome(service=Service(ChromeDriverManager().install()))\n",
    "driver.get(\"https://www.naver.com/\")\n",
    "driver.save_screenshot('img/naver.png')\n",
    "\n",
    "time.sleep(3)\n",
    "driver.quit()"
   ]
  },
  {
   "cell_type": "markdown",
   "metadata": {},
   "source": [
    "### 네이버 포털에 파이썬 검색어를 입력\n",
    "* 검색어를 입력하고 엔터를 치고\n",
    "* 검색된 결과중에서 지식인에 검색된 링크를 클릭"
   ]
  },
  {
   "cell_type": "code",
   "execution_count": 9,
   "metadata": {},
   "outputs": [],
   "source": [
    "from selenium import webdriver\n",
    "from selenium.webdriver.chrome.service import Service\n",
    "from webdriver_manager.chrome import ChromeDriverManager\n",
    "from selenium.webdriver.common.by import By\n",
    "from selenium.webdriver.common.keys import Keys\n",
    "import time\n",
    "\n",
    "driver = webdriver.Chrome(service=Service(ChromeDriverManager().install()))\n",
    "#네이버 포털에 요청 보내기\n",
    "driver.get('https://www.naver.com/') \n",
    "time.sleep(2)\n",
    "\n",
    "#검색어 input 엘리먼트 가져오기\n",
    "search_tag = driver.find_element(By.CSS_SELECTOR,'#query')\n",
    "#print(search_tag)\n",
    "\n",
    "#검색창에 파이썬 키워드를 입력한다.\n",
    "search_tag.send_keys('파이썬')\n",
    "#엔터를 입력한다.\n",
    "search_tag.send_keys(Keys.ENTER)\n",
    "time.sleep(5)\n",
    "\n",
    "#검색된 결과 중에서 a tag 가져오기 <a class='link_tit'>\n",
    "a_tags = driver.find_elements(By.CSS_SELECTOR,'a.link_tit')\n",
    "if a_tags:\n",
    "    #첫번째 a tag 선택하고, click() 함수 호출\n",
    "    a_tags[0].click()\n",
    "\n",
    "#지연 시간을 5초로 설정\n",
    "time.sleep(5)\n",
    "#driver 종료\n",
    "driver.quit()"
   ]
  },
  {
   "cell_type": "markdown",
   "metadata": {},
   "source": [
    "### GitHub 로그인 / 로그아웃\n",
    "* id 와 password를 입력하고 패스워드 필드에서 엔터를 치거나 로그인 버튼 클릭해서 로그인\n",
    "* 로그인 후에 이름과 메일건수를 알아내기\n",
    "* 로그아웃 버튼을 클릭해서 로그아웃 "
   ]
  },
  {
   "cell_type": "markdown",
   "metadata": {},
   "source": [
    "### 로그인 실패할 경우 처리한 코드"
   ]
  },
  {
   "cell_type": "code",
   "execution_count": 16,
   "metadata": {},
   "outputs": [
    {
     "name": "stdout",
     "output_type": "stream",
     "text": [
      "login_ok True\n",
      "Message: invalid selector: An invalid or illegal selector was specified\n",
      "  (Session info: chrome=135.0.7049.85); For documentation on this error, please visit: https://www.selenium.dev/documentation/webdriver/troubleshooting/errors#invalid-selector-exception\n",
      "Stacktrace:\n",
      "0   chromedriver                        0x000000010318adec cxxbridge1$str$ptr + 2817040\n",
      "1   chromedriver                        0x0000000103183088 cxxbridge1$str$ptr + 2784940\n",
      "2   chromedriver                        0x0000000102cca8d8 cxxbridge1$string$len + 93028\n",
      "3   chromedriver                        0x0000000102cd04dc cxxbridge1$string$len + 116584\n",
      "4   chromedriver                        0x0000000102cd2818 cxxbridge1$string$len + 125604\n",
      "5   chromedriver                        0x0000000102cd28c0 cxxbridge1$string$len + 125772\n",
      "6   chromedriver                        0x0000000102d11270 cxxbridge1$string$len + 382204\n",
      "7   chromedriver                        0x0000000102d527b8 cxxbridge1$string$len + 649796\n",
      "8   chromedriver                        0x0000000102d05a80 cxxbridge1$string$len + 335116\n",
      "9   chromedriver                        0x000000010314fc74 cxxbridge1$str$ptr + 2575000\n",
      "10  chromedriver                        0x0000000103152f40 cxxbridge1$str$ptr + 2588004\n",
      "11  chromedriver                        0x000000010312f9fc cxxbridge1$str$ptr + 2443296\n",
      "12  chromedriver                        0x00000001031537bc cxxbridge1$str$ptr + 2590176\n",
      "13  chromedriver                        0x0000000103120af0 cxxbridge1$str$ptr + 2382100\n",
      "14  chromedriver                        0x00000001031739a0 cxxbridge1$str$ptr + 2721732\n",
      "15  chromedriver                        0x0000000103173b2c cxxbridge1$str$ptr + 2722128\n",
      "16  chromedriver                        0x0000000103182cd4 cxxbridge1$str$ptr + 2783992\n",
      "17  libsystem_pthread.dylib             0x0000000190e7c2e4 _pthread_start + 136\n",
      "18  libsystem_pthread.dylib             0x0000000190e770fc thread_start + 8\n",
      "\n"
     ]
    }
   ],
   "source": [
    "from selenium import webdriver\n",
    "from selenium.webdriver.chrome.service import Service\n",
    "from webdriver_manager.chrome import ChromeDriverManager\n",
    "from selenium.webdriver.common.by import By\n",
    "from selenium.webdriver.common.keys import Keys\n",
    "import time\n",
    "\n",
    "from selenium.webdriver.support.ui import WebDriverWait\n",
    "from selenium.webdriver.support import expected_conditions as EC\n",
    "from selenium.webdriver.common.by import By\n",
    "\n",
    "from selenium.common.exceptions import NoSuchElementException\n",
    "\n",
    "url = 'https://github.com/login'\n",
    "\n",
    "driver = webdriver.Chrome(service=Service(ChromeDriverManager().install()))\n",
    "#github login에 요청 보내기\n",
    "driver.get(url)\n",
    "\n",
    "#웹리소스 로딩을 위해서 2초 wait를 반드시 해주어야 합니다. \n",
    "#클래스 선택자를 못가져오고 에러가 발생했던 원인은 웹리소스들이 로딩이 되기 전에 tag를 가져와서 에러가 발생하였음\n",
    "driver.implicitly_wait(2)\n",
    "\n",
    "#time.sleep(2)\n",
    "\n",
    "#id와 password를 엘리먼트 찾고, 값을 입력하기\n",
    "driver.find_element(By.CSS_SELECTOR,'input#login_field').send_keys('lemongza')\n",
    "driver.find_element(By.CSS_SELECTOR,'input#password').send_keys('')\n",
    "time.sleep(2)\n",
    "\n",
    "# #password필드에서 엔터치기\n",
    "driver.find_element(By.CSS_SELECTOR,'input#password').send_keys(Keys.RETURN)\n",
    "\n",
    "#Authentication code 입력해야해서 안넘어감 ㅠㅠㅠㅠㅠㅠㅠㅠㅠㅠ\n",
    "\n",
    "login_ok = None\n",
    "try:        \n",
    "    div_error = driver.find_element(By.CSS_SELECTOR,'div.js-flash-alert')\n",
    "    print(div_error)\n",
    "    if div_error:\n",
    "        login_ok = False\n",
    "        print(\"login fail ----------------\",login_ok)    \n",
    "except NoSuchElementException as nexp:\n",
    "    # 로그인 정상이면 div.js-flash-alert 태그가 없으므로 NoSuchElementException 이 발생함\n",
    "    login_ok = True\n",
    "except Exception as exp:\n",
    "    print(exp)\n",
    "\n",
    "print('login_ok', login_ok)\n",
    "\n",
    "if login_ok:    \n",
    "    try:\n",
    "        # 아바타 버튼 선택해서 클릭\n",
    "        avatar_img = driver.find_elements(By.CSS_SELECTOR, 'span.87Button-label img')\n",
    "        if avatar_img:\n",
    "            avatar_img[0].click()\n",
    "            time.sleep(4)\n",
    "            \n",
    "            # repositories 메뉴 선택해서 클릭\n",
    "            repo_a_tag = driver.find_elements(By.CSS_SELECTOR,\"a[href*='?tab=repositories']\")\n",
    "            if repo_a_tag:\n",
    "                repo_a_tag[0].click()\n",
    "            time.sleep(4)\n",
    "\n",
    "            # repository 목록에서 첫번째 repository 클릭\n",
    "            repo1_a_tags = driver.find_elements(By.CSS_SELECTOR,\"ul li.col-12 h3.wb-break-all a\")\n",
    "            if repo1_a_tags:\n",
    "                repo1_a_tags[0].click()\n",
    "            time.sleep(4)\n",
    "            \n",
    "        # 아바타 버튼 선택해서 클릭            \n",
    "        avatar_img = driver.find_elements(By.CSS_SELECTOR, 'span.Button-label img')\n",
    "        if avatar_img:\n",
    "            avatar_img[0].click()\n",
    "            time.sleep(4)\n",
    "            \n",
    "            # 로그아웃 메뉴 선택해서 클릭\n",
    "            logout_a_tag = driver.find_elements(By.CSS_SELECTOR,\"a[href='/logout']\")\n",
    "            if logout_a_tag:\n",
    "                logout_a_tag[0].click()\n",
    "                \n",
    "        time.sleep(2)\n",
    "        #logout_input = driver.find_elements(By.CSS_SELECTOR,\"form input[name='commit']\")\n",
    "        logout_input = driver.find_elements_by_name(\"commit\")\n",
    "        if logout_input:\n",
    "            logout_input.submit()\n",
    "        time.sleep(2)\n",
    "        \n",
    "    except Exception as exp:\n",
    "        print(exp)\n",
    "\n",
    "time.sleep(3)\n",
    "driver.quit()"
   ]
  }
 ],
 "metadata": {
  "kernelspec": {
   "display_name": "base",
   "language": "python",
   "name": "python3"
  },
  "language_info": {
   "codemirror_mode": {
    "name": "ipython",
    "version": 3
   },
   "file_extension": ".py",
   "mimetype": "text/x-python",
   "name": "python",
   "nbconvert_exporter": "python",
   "pygments_lexer": "ipython3",
   "version": "3.12.2"
  }
 },
 "nbformat": 4,
 "nbformat_minor": 4
}

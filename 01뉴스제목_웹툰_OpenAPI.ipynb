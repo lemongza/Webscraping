{
 "cells": [
  {
   "cell_type": "markdown",
   "id": "eb0bfa44",
   "metadata": {},
   "source": [
    "## 1. 뉴스제목 가져오기\n",
    "* user-agent 요청헤더를 반드시 설정해야 한다."
   ]
  },
  {
   "cell_type": "code",
   "execution_count": null,
   "id": "f0d27781",
   "metadata": {},
   "outputs": [],
   "source": [
    "# requests 라이브러리 설치여부 확인\n",
    "!pip install requests "
   ]
  },
  {
   "cell_type": "code",
   "execution_count": null,
   "id": "f7798ea8",
   "metadata": {},
   "outputs": [],
   "source": [
    "# beautifulsoup4 라이브러리 설치여부 확인\n",
    "!pip install beautifulsoup4"
   ]
  },
  {
   "cell_type": "code",
   "execution_count": null,
   "id": "bf80a429",
   "metadata": {},
   "outputs": [],
   "source": [
    "# reqeusts, bs4 import\n",
    "import requests\n",
    "import bs4\n",
    "# BeautifulSoup 클래스 import\n",
    "from bs4 import BeautifulSoup"
   ]
  },
  {
   "cell_type": "code",
   "execution_count": null,
   "id": "9788d6ac",
   "metadata": {
    "scrolled": true
   },
   "outputs": [],
   "source": [
    "# requests, bs4 버전 확인하기\n",
    "print(f'requests 버전 {requests.__version__}')\n",
    "print(f'beautifulsoup4 버전 {bs4.__version__}')"
   ]
  },
  {
   "cell_type": "markdown",
   "id": "ccb91def-cde3-4aeb-b0e5-2e7233500333",
   "metadata": {},
   "source": [
    "### 1. 뉴스 제목 추출하기"
   ]
  },
  {
   "cell_type": "code",
   "execution_count": null,
   "id": "94c12fd6",
   "metadata": {},
   "outputs": [],
   "source": [
    "# IT/과학 뉴스\n",
    "req_param = {\"sid\": 105}\n",
    "#\n",
    "url = \"https://news.naver.com/section/{sid}\".format(**req_param)\n",
    "print(url)\n",
    "\n",
    "# 요청 헤더 설정 : 브라우저 정보\n",
    "req_header = {\n",
    "    \"user-agent\": \"Mozilla/5.0 (Windows NT 10.0; Win64; x64) AppleWebKit/537.36 (KHTML, like Gecko) Chrome/104.0.0.0 Safari/537.36\"\n",
    "}\n",
    "\n",
    "# requests 의 get() 함수 호출하기\n",
    "res = requests.get(url, headers=req_header)\n",
    "print(res)\n",
    "print(type(res))\n",
    "print(res.status_code)\n",
    "print(res.status_code, res.ok)\n",
    "\n",
    "# 응답(response)이 OK 이면\n",
    "if res.ok:\n",
    "    # 응답 (response)에서 text 추출\n",
    "    html = res.text\n",
    "    # BeautifulSoup 객체 생성\n",
    "    soup = BeautifulSoup(html, \"html.parser\")\n",
    "    # print(soup)\n",
    "\n",
    "    # CSS 선택자\n",
    "    print(\n",
    "        len(soup.select(\"div.sa_text a[href*='mnews/article/']\"))\n",
    "    )  # href* 부분적으로 '' 있음\n",
    "    # print(soup.select(\"div.sa_text a[href*='mnews/article']\"))\n",
    "    a_tag_list = soup.select(\"div.sa_text a[href*='mnews/article/']\")  # 변수로 담음\n",
    "    # <a> 태그 리스트 순회하기\n",
    "    print(type(a_tag_list))\n",
    "    for a_tag in a_tag_list:\n",
    "        # print(type(a_tag))\n",
    "        # print(a_tag.text.strip())\n",
    "        title = a_tag.text.strip()\n",
    "        link = a_tag[\"href\"]  # href 속성의 값을 가져오기\n",
    "        print(title, link)\n",
    "\n",
    "\n",
    "else:\n",
    "    # 응답(response)이 Error 이면 status code 출력\n",
    "    print(f\"Error code = {res.status_code}\")"
   ]
  },
  {
   "cell_type": "markdown",
   "id": "45640860-a449-4285-90d7-5f300292b461",
   "metadata": {},
   "source": [
    "### 1.1 뉴스제목 추출하는 함수 선언하기"
   ]
  },
  {
   "cell_type": "code",
   "execution_count": null,
   "id": "9f2e4ef8",
   "metadata": {},
   "outputs": [],
   "source": [
    "\n",
    "import requests\n",
    "from bs4 import BeautifulSoup\n",
    "\n",
    "section_dict = {\n",
    "    100: \"정치\",\n",
    "    101: \"경제\",\n",
    "    102: \"사회\",\n",
    "    103: \"생활/문화\",\n",
    "    104: \"세계\",\n",
    "    105: \"IT/과학\",\n",
    "}\n",
    "\n",
    "\n",
    "\n",
    "\n",
    "def print_news(sid):  # print_new(103,'생활/문화')\n",
    "    section = section_dict[sid]\n",
    "    print(f\"======= Section: {section} =======\")\n",
    "    url = \"https://news.naver.com/section/{sid}\".format(**req_param)\n",
    "    req_header = {\n",
    "        \"user-agent\": \"Mozilla/5.0 (Windows NT 10.0; Win64; x64) AppleWebKit/537.36 (KHTML, like Gecko) Chrome/104.0.0.0 Safari/537.36\"\n",
    "    }\n",
    "    res = requests.get(url, headers=req_header)\n",
    "\n",
    "    if res.ok:\n",
    "        html = res.text\n",
    "        soup = BeautifulSoup(html, \"html.parser\")\n",
    "        a_tag_list = soup.select(\"div.sa_text a[href*='mnews/article/0']\")\n",
    "        for a_tag in a_tag_list:\n",
    "            title = a_tag.text.strip()\n",
    "            link = a_tag[\"href\"]\n",
    "            print(title, link)\n",
    "    else :\n",
    "        print(f\"에러 코드 = {res.status_code}\")"
   ]
  },
  {
   "cell_type": "code",
   "execution_count": null,
   "id": "858952c6",
   "metadata": {},
   "outputs": [],
   "source": [
    "print_news(101)"
   ]
  },
  {
   "cell_type": "markdown",
   "id": "323196dc",
   "metadata": {},
   "source": [
    "### 2. Image 다운로드\n",
    "* referer 요청 헤더를 반드시 설정해야 한다."
   ]
  },
  {
   "cell_type": "code",
   "execution_count": 33,
   "id": "c72d6cb1",
   "metadata": {},
   "outputs": [
    {
     "name": "stdout",
     "output_type": "stream",
     "text": [
      "Writing to 20220804112251_d97bd1e1b38f0cd022e4e3639d2926b3_IMAG01_1.jpg (299,319 bytes) \n",
      "Writing to 20220804112251_d97bd1e1b38f0cd022e4e3639d2926b3_IMAG01_2.jpg (163,333 bytes) \n",
      "Writing to 20220804112251_d97bd1e1b38f0cd022e4e3639d2926b3_IMAG01_3.jpg (182,530 bytes) \n"
     ]
    }
   ],
   "source": [
    "import requests\n",
    "import os\n",
    "\n",
    "req_header = {\n",
    "    # 이미지가 어떤 경로 (라우터)로 부터 왔는지\n",
    "    \"referer\": \"https://comic.naver.com/webtoon/detail?titleId=798173&no=5&amp;weekday=thu\"\n",
    "}\n",
    "\n",
    "img_urls = [\n",
    "    \"https://image-comic.pstatic.net/webtoon/798173/5/20220804112251_d97bd1e1b38f0cd022e4e3639d2926b3_IMAG01_1.jpg\",\n",
    "    \"https://image-comic.pstatic.net/webtoon/798173/5/20220804112251_d97bd1e1b38f0cd022e4e3639d2926b3_IMAG01_2.jpg\",\n",
    "    \"https://image-comic.pstatic.net/webtoon/798173/5/20220804112251_d97bd1e1b38f0cd022e4e3639d2926b3_IMAG01_3.jpg\",\n",
    "]\n",
    "\n",
    "for img_url in img_urls:\n",
    "    # requests 의 get(url, headers) 함수 호출하기\n",
    "    res = requests.get(img_url, headers=req_header) #header(요청헤더 referer)필요\n",
    "    #print(res)\n",
    "    if res.ok:\n",
    "        # binary 응답 데이터 가져오기 : content 바이너리 !!!\n",
    "        img_data = res.content\n",
    "        #print(img_data)\n",
    "        # url에서 파일명만 추출하기\n",
    "        file_name = os.path.basename(img_url)\n",
    "        # binday data를 file에 write하기\n",
    "        with open(file_name, \"wb\") as file: #알아서 close 해줌\n",
    "            # a :append , w :write , b :binary ... \n",
    "            print(f\"Writing to {file_name} ({len(img_data):,} bytes) \") # :, 3자리수 끊어서\n",
    "            file.write(img_data) #파일에 쓰기"
   ]
  },
  {
   "cell_type": "markdown",
   "id": "e8b00a04",
   "metadata": {},
   "source": [
    "* 현재 요청된 페이지의 image 모두 다운로드 해보기"
   ]
  },
  {
   "cell_type": "code",
   "execution_count": null,
   "id": "b30f7bf5",
   "metadata": {},
   "outputs": [],
   "source": [
    "import requests\n",
    "from bs4 import BeautifulSoup\n",
    "import os\n",
    "\n",
    "url = 'https://comic.naver.com/webtoon/detail?titleId=823195&no=92&week=wed'\n",
    "req_header = {\n",
    "    'referer': url\n",
    "}\n",
    "res = requests.get(url)\n",
    "if res.ok:\n",
    "    # jpg 파일의 절대경로 url를 찾기\n",
    "    soup = BeautifulSoup(res.text, 'html.parser')\n",
    "    \n",
    "    #img 태그 안에 src 속성\n",
    "    print(len(soup.select(\"img[src*='IMAG01']\"))) #src = '' 정확히 일치 / src*='' 부분적으로 일치\n",
    "    print(len(soup.select(\"img[src$='.jpg']\"))) # src$ : jpg로 끝나는\n",
    "    print(len(soup.select(\"img[src^='https://image-comic']\"))) # src^ : ''로 시작하는\n",
    "    \n",
    "    img_tags = soup.select(\"img[src*='IMAG01']\")\n",
    "    #img src를 저장할 list 선언\n",
    "    img_url_list = list() # =[]\n",
    "    for img_tag in img_tags:\n",
    "        # print(type(img_tag)) #<class 'bs4.element.Tag'>\n",
    "        # print(img_tag.name) #img\n",
    "        # print(img_tag) #<img alt=\"comic content\" id=\"content_image_0\" src=\"https://image-comic.pstatic.net/webtoon/823195/92/20241225183840_5c7e8a5d8b95be2c1c11af6d7cc2d22d_IMAG01_1.jpg\"/>\n",
    "        img_src = img_tag['src']\n",
    "        img_url_list.append(img_src)\n",
    "\n",
    "    print(len(img_url_list), img_url_list[:2]) #index 0, 1만 출력\n",
    "       \n",
    "    \n",
    "    imgdir_name = 'img'  #디렉토리명 변수 지정\n",
    "    \n",
    "    #img 디렉토리 없으면 생성 (무조건 생성 X)\n",
    "    if not os.path.isdir(imgdir_name) :\n",
    "        os.mkdir(imgdir_name) #os.makedirs (서브까지)\n",
    "        \n",
    "        \n",
    "    for img_url in img_url_list:\n",
    "        # requests 의 get(url, headers) 함수 호출하기 \n",
    "        res = requests.get(img_url,headers=req_header)\n",
    "        if res.ok :\n",
    "            # binary 응답 데이터 가져오기\n",
    "            img_data = res.content\n",
    "            # img/xxx.jpg 디렉토리명과 파일명을 join\n",
    "            dir_name= os.path.join(imgdir_name,os.path.basename(img_url))\n",
    "            # binday data를 file에 write하기\n",
    "            with open(dir_name,'wb') as file:\n",
    "                print(f'Writing to {dir_name}({len(img_data):,} bytes) ') # :, 3자리 끊어서 표시\n",
    "                file.write(img_data)\n",
    "\n",
    "else:\n",
    "    print(f'Error Code = {res.status_code}')\n",
    "    "
   ]
  },
  {
   "cell_type": "markdown",
   "id": "2ac9f5f9",
   "metadata": {},
   "source": [
    "### 3. 파일 업로드 하기\n",
    "* http://httpbin.org/post 업로드 요청을 할 수 있는 url"
   ]
  },
  {
   "cell_type": "code",
   "execution_count": null,
   "id": "04da4790",
   "metadata": {},
   "outputs": [],
   "source": [
    "import requests\n",
    "\n",
    "upload_files = {\n",
    "    \n",
    "}\n",
    "#print(upload_files)\n",
    "\n",
    "url = 'http://httpbin.org/post'\n",
    "# file 업로드 하려면 requests의 post 함수에 files 속성을 사용합니다.\n",
    "\n"
   ]
  },
  {
   "cell_type": "markdown",
   "id": "7ad65f12",
   "metadata": {},
   "source": [
    "### 4. 캡챠(이미지) API 호출하기\n",
    "* urllib 사용\n",
    "* 1. 캡차 키 발급 요청\n",
    "  2. 캡차 이미지 요청\n",
    "  3. 사용자 입력값 검증 요청"
   ]
  },
  {
   "cell_type": "code",
   "execution_count": null,
   "id": "bc4ae360-e772-4873-8642-d3494edd34e1",
   "metadata": {},
   "outputs": [
    {
     "name": "stdout",
     "output_type": "stream",
     "text": [
      "{\"key\":\"0L6hMOEF4zTHZ4Dx\"}\n"
     ]
    }
   ],
   "source": [
    "# 캡차 키 발급 요청\n",
    "import urllib.request\n",
    "\n",
    "client_id = os.getenv(\"NAVER_CLIENT_ID\") # 개발자센터에서 발급받은 Client ID 값\n",
    "client_secret = os.getenv(\"NAVER_CLIENT_SECRET\") # 개발자센터에서 발급받은 Client Secret 값\n",
    "code = \"0\"\n",
    "url = \"https://openapi.naver.com/v1/captcha/nkey?code=\" + code\n",
    "\n",
    "# Request 객체생성성\n",
    "request = urllib.request.Request(url)\n",
    "\n",
    "#요청 헤더 설정\n",
    "request.add_header(\"X-Naver-Client-Id\",client_id)\n",
    "request.add_header(\"X-Naver-Client-Secret\",client_secret)\n",
    "\n",
    "# 요청 보내기\n",
    "response = urllib.request.urlopen(request)\n",
    "\n",
    "# 응답 코드 가져오기기\n",
    "rescode = response.getcode()\n",
    "if(rescode==200):\n",
    "    response_body = response.read()\n",
    "    print(response_body.decode('utf-8'))\n",
    "else:\n",
    "    print(\"Error Code:\" + rescode)\n"
   ]
  },
  {
   "cell_type": "code",
   "execution_count": null,
   "id": "7b95b6a0-c218-4792-82a6-da4d80872071",
   "metadata": {},
   "outputs": [
    {
     "name": "stdout",
     "output_type": "stream",
     "text": [
      "캡차 이미지 저장\n"
     ]
    }
   ],
   "source": [
    "# 캡차 이미지 요청\n",
    "import urllib.request\n",
    "\n",
    "client_id = os.getenv(\"NAVER_CLIENT_ID\") # 개발자센터에서 발급받은 Client ID 값\n",
    "client_secret =os.getenv(\"NAVER_CLIENT_SECRET\") # 개발자센터에서 발급받은 Client Secret 값\n",
    "key = \" \" # 캡차 Key 값 \n",
    "\n",
    "url = \"https://openapi.naver.com/v1/captcha/ncaptcha.bin?key=\" + key\n",
    "request = urllib.request.Request(url)\n",
    "request.add_header(\"X-Naver-Client-Id\",client_id)\n",
    "request.add_header(\"X-Naver-Client-Secret\",client_secret)\n",
    "response = urllib.request.urlopen(request)\n",
    "rescode = response.getcode()\n",
    "if(rescode==200):\n",
    "    print(\"캡차 이미지 저장\")\n",
    "    response_body = response.read()\n",
    "    with open('captcha.jpg', 'wb') as f:\n",
    "        f.write(response_body)\n",
    "else:\n",
    "    print(\"Error Code:\" + rescode)"
   ]
  },
  {
   "cell_type": "code",
   "execution_count": null,
   "id": "a79076af-2cd0-4de2-8301-316b9130c55e",
   "metadata": {},
   "outputs": [
    {
     "name": "stdout",
     "output_type": "stream",
     "text": [
      "{\"result\":true,\"responseTime\":30.68}\n"
     ]
    }
   ],
   "source": [
    "#  사용자 입력값 검증 요청\n",
    "import urllib.request\n",
    "\n",
    "client_id = os.getenv(\"NAVER_CLIENT_ID\") # 개발자센터에서 발급받은 Client ID 값\n",
    "client_secret = os.getenv(\"NAVER_CLIENT_SECRET\") # 개발자센터에서 발급받은 Client Secret 값\n",
    "key = \" \" # 캡차 Key 값\n",
    "\n",
    "code = \"1\"\n",
    "value = \"FU6N\"\n",
    "url = \"https://openapi.naver.com/v1/captcha/nkey?code=\" + code + \"&key=\" + key + \"&value=\" + value\n",
    "request = urllib.request.Request(url)\n",
    "\n",
    "request.add_header(\"X-Naver-Client-Id\",client_id)\n",
    "request.add_header(\"X-Naver-Client-Secret\",client_secret)\n",
    "\n",
    "response = urllib.request.urlopen(request)\n",
    "rescode = response.getcode()\n",
    "\n",
    "if(rescode==200):\n",
    "    response_body = response.read()\n",
    "    print(response_body.decode('utf-8'))\n",
    "else:\n",
    "    print(\"Error Code:\" + rescode)"
   ]
  },
  {
   "cell_type": "markdown",
   "id": "b7d984a6",
   "metadata": {},
   "source": [
    "* requests를 사용하는 코드로 변경하기\n",
    "* [requests docs](https://requests.readthedocs.io/en/latest/user/quickstart/)"
   ]
  },
  {
   "cell_type": "code",
   "execution_count": null,
   "id": "727b427b",
   "metadata": {
    "scrolled": true
   },
   "outputs": [],
   "source": [
    "# 사용자 입력값 검증 요청\n",
    "\n"
   ]
  },
  {
   "cell_type": "markdown",
   "id": "d5e1179a",
   "metadata": {},
   "source": [
    "### 5. 블로그 검색하기"
   ]
  },
  {
   "cell_type": "code",
   "execution_count": 28,
   "id": "877d0c7f",
   "metadata": {},
   "outputs": [
    {
     "name": "stdout",
     "output_type": "stream",
     "text": [
      "[['대구<b>파이썬</b>학원 실전 기술 익힌 곳',\n",
      "  '▶ 제이의 맛있는 세상 ◀',\n",
      "  '그때 힘이 되어 준 대구<b>파이썬</b>학원에 대한 글을 써보려 해요! IT 위주로 학습하는 곳 단순히 구직에... 이 '\n",
      "  '대구<b>파이썬</b>학원은 전직, 현직 강사들이 비전공자도 따라갈 수 있을 정도로 눈높이 교육을 진행해 준다고... ',\n",
      "  'blog.naver.com/xshinerx',\n",
      "  'https://blog.naver.com/xshinerx/223787876858'],\n",
      " ['대전자바학원 <b>파이썬</b> 앱개발 공부하고 취업까지',\n",
      "  '반짝반짝 너와 나',\n",
      "  '저는 <b>파이썬</b>부터 시작해 백엔드 개발에 필요한 다양한 과정을 배우기로 결정했어요. <b>파이썬</b>은 최근 많은 사람들이 '\n",
      "  '주목하고 인기 있는 프로그래밍 언어로 특히 생성 AI 앱을 구축하고 싶다면 필수인 언어였고... ',\n",
      "  'blog.naver.com/mamansiri',\n",
      "  'https://blog.naver.com/mamansiri/223750243246']]\n"
     ]
    }
   ],
   "source": [
    "import requests\n",
    "import pprint\n",
    "import os\n",
    "from dotenv import load_dotenv\n",
    "from pprint import pprint\n",
    "\n",
    "# .env 파일에서 환경 변수 로드\n",
    "load_dotenv()\n",
    "\n",
    "# 환경 변수에서 값 읽기\n",
    "client_id = os.getenv(\"NAVER_CLIENT_ID\")  # .env 파일의 NAVER_CLIENT_ID\n",
    "client_secret = os.getenv(\"NAVER_CLIENT_SECRET\")  # .env 파일의 NAVER_CLIENT_SECRET\n",
    "\n",
    "headers = {\n",
    "    'X-Naver-Client-Id': client_id,\n",
    "    'X-Naver-Client-Secret': client_secret,\n",
    "}\n",
    "\n",
    "# query string 문자열을 dict 선언\n",
    "payload = {\n",
    "    'query': '파이썬',\n",
    "    'display': 100,\n",
    "    'sort': 'sim'\n",
    "}\n",
    "\n",
    "url = 'https://openapi.naver.com/v1/search/blog.json' #?query=파이썬&display=100&sort=sim\n",
    "\n",
    "# requests get(url, params, headers) 요청 \n",
    "res = requests.get(url, params=payload, headers=headers)\n",
    "# json() 함수로 응답 결과 가져오기\n",
    "items_data = res.json()['items']\n",
    "#print(type(res.json()))\n",
    "#print(len(items_data), type(items_data), type(items_data[0]))\n",
    "\n",
    "#[{},{},{}] \n",
    "# [] - 100 개의 데이터, {title:'',link:''} - 1개의 블로그 글 데이터\n",
    "\n",
    "# 'title' , 'bloggername' , 'description' , 'bloggerlink' , 'link'\n",
    "items_list = list()\n",
    "item_list = []\n",
    "for item in items_data[:2]:\n",
    "#     print(item)\n",
    "    item_list.append(item['title'])\n",
    "    item_list.append(item['bloggername'])\n",
    "    item_list.append(item['description'])\n",
    "    item_list.append(item['bloggerlink'])\n",
    "    item_list.append(item['link'])\n",
    "\n",
    "    items_list.append(item_list)\n",
    "    item_list = []\n",
    "\n",
    "pprint(items_list) #[[],[]]\n",
    "\n",
    "# 'data/nhnblog.txt' 파일 생성하기\n",
    "with open('data/nhnblog.txt','w',encoding=\"utf-8\")as file:\n",
    "    for items in items_list:\n",
    "        for item in items:\n",
    "            item = item + '\\n'\n",
    "            file.write(item)\n",
    "        file.write('-'*150+'\\n')"
   ]
  }
 ],
 "metadata": {
  "kernelspec": {
   "display_name": "base",
   "language": "python",
   "name": "python3"
  },
  "language_info": {
   "codemirror_mode": {
    "name": "ipython",
    "version": 3
   },
   "file_extension": ".py",
   "mimetype": "text/x-python",
   "name": "python",
   "nbconvert_exporter": "python",
   "pygments_lexer": "ipython3",
   "version": "3.12.2"
  }
 },
 "nbformat": 4,
 "nbformat_minor": 5
}
